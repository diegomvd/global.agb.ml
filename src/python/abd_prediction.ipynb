{
 "cells": [
  {
   "cell_type": "markdown",
   "metadata": {},
   "source": [
    "Global prediction of ABD using the trained model"
   ]
  },
  {
   "cell_type": "code",
   "execution_count": 3,
   "metadata": {},
   "outputs": [],
   "source": [
    "import numpy as np\n",
    "import pandas as pd\n",
    "from xgboost import XGBRegressor\n",
    "from sklearn.base import TransformerMixin, BaseEstimator\n",
    "from sklearn.preprocessing import FunctionTransformer\n",
    "from sklearn.pipeline import Pipeline\n",
    "from sklearn.ensemble import VotingRegressor\n",
    "from pathlib import Path\n",
    "import pickle\n",
    "import re"
   ]
  },
  {
   "cell_type": "markdown",
   "metadata": {},
   "source": [
    "Helper classes and functions."
   ]
  },
  {
   "cell_type": "code",
   "execution_count": 2,
   "metadata": {},
   "outputs": [
    {
     "ename": "NameError",
     "evalue": "name 'BaseEstimator' is not defined",
     "output_type": "error",
     "traceback": [
      "\u001b[0;31m---------------------------------------------------------------------------\u001b[0m",
      "\u001b[0;31mNameError\u001b[0m                                 Traceback (most recent call last)",
      "\u001b[1;32m/home/dibepa/git/global.agb.ml/src/python/abd_prediction.ipynb Cell 4\u001b[0m line \u001b[0;36m1\n\u001b[0;32m----> <a href='vscode-notebook-cell:/home/dibepa/git/global.agb.ml/src/python/abd_prediction.ipynb#W0sZmlsZQ%3D%3D?line=0'>1</a>\u001b[0m \u001b[39mclass\u001b[39;00m \u001b[39mBGRBinaryEncoding\u001b[39;00m(BaseEstimator, TransformerMixin):\n\u001b[1;32m      <a href='vscode-notebook-cell:/home/dibepa/git/global.agb.ml/src/python/abd_prediction.ipynb#W0sZmlsZQ%3D%3D?line=1'>2</a>\u001b[0m     \u001b[39mdef\u001b[39;00m \u001b[39m__init__\u001b[39m(\u001b[39mself\u001b[39m):\n\u001b[1;32m      <a href='vscode-notebook-cell:/home/dibepa/git/global.agb.ml/src/python/abd_prediction.ipynb#W0sZmlsZQ%3D%3D?line=2'>3</a>\u001b[0m         \u001b[39mself\u001b[39m\n",
      "\u001b[0;31mNameError\u001b[0m: name 'BaseEstimator' is not defined"
     ]
    }
   ],
   "source": [
    "class BGRBinaryEncoding(BaseEstimator, TransformerMixin):\n",
    "    def __init__(self):\n",
    "        self\n",
    "\n",
    "    def fit(self, X , y=None):\n",
    "        return self\n",
    "    \n",
    "    def transform(self, X):\n",
    "        df = X.copy()\n",
    "\n",
    "        df[\"bgr_tuple\"] = [binary_encoding(t) for t in df.bgr]\n",
    "\n",
    "        # df_bin = df['bgr_tuple'].apply(pd.Series, index=['bgr1','bgr2','bgr3'])\n",
    "\n",
    "        df_bin=pd.DataFrame(df['bgr_tuple'].tolist())\n",
    "        df_bin.columns=['bgr1', 'bgr2', 'bgr3']\n",
    "\n",
    "        df = pd.concat([df,df_bin],axis='columns')\n",
    "\n",
    "        df = df.dropna()\n",
    "\n",
    "        df = df.drop([\"bgr_tuple\",\"bgr\"],axis=\"columns\")\n",
    "\n",
    "        return df\n",
    "    \n",
    "# custom transformer for sklearn pipeline\n",
    "class ColumnExtractor(TransformerMixin, BaseEstimator):\n",
    "    def __init__(self, cols):\n",
    "        self.cols = cols\n",
    "\n",
    "    def transform(self, X):\n",
    "        return X[self.cols]\n",
    "\n",
    "    def fit(self, X, y=None):\n",
    "        return self    \n",
    "    \n",
    "class LogarithmizeWaterObservables(BaseEstimator, TransformerMixin):\n",
    "    def __init__(self, cols):\n",
    "        self.cols = cols\n",
    "    def fit(self, X , y=None):\n",
    "        return self\n",
    "    def transform(self, X):\n",
    "        df = X.copy()\n",
    "        log_preds = log_predictors(self.cols)\n",
    "        df[log_preds] = np.log(df[log_preds]+1)     \n",
    "        return df    \n",
    "\n",
    "def keep_predictor(plist,pname,pval):\n",
    "    if pval>0.5:\n",
    "        plist.append(pname)\n",
    "    return plist\n",
    "\n",
    "\n",
    "def build_predictor_list(predictor_dict):\n",
    "    plist = []\n",
    "    for predictor in predictor_dict:\n",
    "        plist = keep_predictor(plist,predictor,predictor_dict[predictor])\n",
    "    return plist    \n",
    "\n",
    "def func(x):\n",
    "    return np.log(x+1)\n",
    "\n",
    "def inverse_func(x):\n",
    "    return np.exp(x)-1\n",
    "\n",
    "def binary_encoding(bgr):\n",
    "    match bgr:\n",
    "        case \"Palearctic\":\n",
    "            return (0,0,0)\n",
    "        case \"Indomalayan\":\n",
    "            return (0,1,0)\n",
    "        case \"Australasia\":\n",
    "            return (0,0,1)\n",
    "        case \"Nearctic\":\n",
    "            return (0,1,1)\n",
    "        case \"Afrotropic\":\n",
    "            return (1,0,0)\n",
    "        case \"Neotropic\":\n",
    "            return (1,1,0)                    \n",
    "\n",
    "log_transformer = FunctionTransformer(func=func,inverse_func=inverse_func)\n",
    "\n",
    "def log_predictors(predictor_list):\n",
    "    all = [\"yp\",\"pwm\",\"pet\",\"ps\",\"pcq\",\"pdq\",\"pwaq\",\"pweq\"]\n",
    "    return [f for f in all if f in predictor_list]\n",
    "\n",
    "\n",
    "def predictor_list(predictor_string):\n",
    "    pred = predictor_string.split(\"-\")\n",
    "    return pred "
   ]
  },
  {
   "cell_type": "markdown",
   "metadata": {},
   "source": [
    "Load model."
   ]
  },
  {
   "cell_type": "code",
   "execution_count": 5,
   "metadata": {},
   "outputs": [],
   "source": [
    "pickled_model = \"/home/dibepa/git/global.agb.ml/data/training/detailed.allometries.model/abd_model_bioclim_notrees_noweights.pkl\"\n",
    "\n",
    "with open(pickled_model, 'rb') as f:\n",
    "    model = pickle.load(f)"
   ]
  },
  {
   "cell_type": "markdown",
   "metadata": {},
   "source": [
    "Iterate over predictor windows  and make ABD estimation."
   ]
  },
  {
   "cell_type": "code",
   "execution_count": 6,
   "metadata": {},
   "outputs": [
    {
     "name": "stdout",
     "output_type": "stream",
     "text": [
      "_lon_18.0_lat_9.0.csv\n"
     ]
    },
    {
     "name": "stderr",
     "output_type": "stream",
     "text": [
      "/home/dibepa/miniconda3/envs/tree.cluster/lib/python3.12/site-packages/xgboost/data.py:312: FutureWarning: is_sparse is deprecated and will be removed in a future version. Check `isinstance(dtype, pd.SparseDtype)` instead.\n",
      "  if is_sparse(dtype):\n",
      "/home/dibepa/miniconda3/envs/tree.cluster/lib/python3.12/site-packages/xgboost/data.py:314: FutureWarning: is_categorical_dtype is deprecated and will be removed in a future version. Use isinstance(dtype, CategoricalDtype) instead\n",
      "  elif is_categorical_dtype(dtype) and enable_categorical:\n",
      "/home/dibepa/miniconda3/envs/tree.cluster/lib/python3.12/site-packages/xgboost/data.py:345: FutureWarning: is_categorical_dtype is deprecated and will be removed in a future version. Use isinstance(dtype, CategoricalDtype) instead\n",
      "  if is_categorical_dtype(dtype)\n",
      "/home/dibepa/miniconda3/envs/tree.cluster/lib/python3.12/site-packages/xgboost/data.py:336: FutureWarning: is_categorical_dtype is deprecated and will be removed in a future version. Use isinstance(dtype, CategoricalDtype) instead\n",
      "  return is_int or is_bool or is_float or is_categorical_dtype(dtype)\n",
      "/home/dibepa/miniconda3/envs/tree.cluster/lib/python3.12/site-packages/xgboost/data.py:312: FutureWarning: is_sparse is deprecated and will be removed in a future version. Check `isinstance(dtype, pd.SparseDtype)` instead.\n",
      "  if is_sparse(dtype):\n",
      "/home/dibepa/miniconda3/envs/tree.cluster/lib/python3.12/site-packages/xgboost/data.py:314: FutureWarning: is_categorical_dtype is deprecated and will be removed in a future version. Use isinstance(dtype, CategoricalDtype) instead\n",
      "  elif is_categorical_dtype(dtype) and enable_categorical:\n",
      "/home/dibepa/miniconda3/envs/tree.cluster/lib/python3.12/site-packages/xgboost/data.py:345: FutureWarning: is_categorical_dtype is deprecated and will be removed in a future version. Use isinstance(dtype, CategoricalDtype) instead\n",
      "  if is_categorical_dtype(dtype)\n",
      "/home/dibepa/miniconda3/envs/tree.cluster/lib/python3.12/site-packages/xgboost/data.py:336: FutureWarning: is_categorical_dtype is deprecated and will be removed in a future version. Use isinstance(dtype, CategoricalDtype) instead\n",
      "  return is_int or is_bool or is_float or is_categorical_dtype(dtype)\n",
      "/home/dibepa/miniconda3/envs/tree.cluster/lib/python3.12/site-packages/xgboost/data.py:312: FutureWarning: is_sparse is deprecated and will be removed in a future version. Check `isinstance(dtype, pd.SparseDtype)` instead.\n",
      "  if is_sparse(dtype):\n",
      "/home/dibepa/miniconda3/envs/tree.cluster/lib/python3.12/site-packages/xgboost/data.py:314: FutureWarning: is_categorical_dtype is deprecated and will be removed in a future version. Use isinstance(dtype, CategoricalDtype) instead\n",
      "  elif is_categorical_dtype(dtype) and enable_categorical:\n",
      "/home/dibepa/miniconda3/envs/tree.cluster/lib/python3.12/site-packages/xgboost/data.py:345: FutureWarning: is_categorical_dtype is deprecated and will be removed in a future version. Use isinstance(dtype, CategoricalDtype) instead\n",
      "  if is_categorical_dtype(dtype)\n",
      "/home/dibepa/miniconda3/envs/tree.cluster/lib/python3.12/site-packages/xgboost/data.py:336: FutureWarning: is_categorical_dtype is deprecated and will be removed in a future version. Use isinstance(dtype, CategoricalDtype) instead\n",
      "  return is_int or is_bool or is_float or is_categorical_dtype(dtype)\n"
     ]
    },
    {
     "name": "stdout",
     "output_type": "stream",
     "text": [
      "Could not make prediction.\n",
      "_lon_36.0_lat_27.0.csv\n",
      "Could not make prediction.\n",
      "_lon_-162.0_lat_63.0.csv\n"
     ]
    }
   ],
   "source": [
    "datadir = \"/home/dibepa/git/global.agb.ml/data/predict/predictor.data.onlybioclim/\"\n",
    "\n",
    "for i,file in enumerate(Path(datadir).glob('*')):\n",
    "\n",
    "    window = re.findall(\"predictors_global_data(.*)\",file.name)[0]\n",
    "    print(window)\n",
    "\n",
    "    filename = \"/home/dibepa/git/global.agb.ml/data/predict/detailed.allometries.model/window.prediction/ABD{}\".format(window)\n",
    "\n",
    "    if not Path(filename).is_file(): \n",
    "\n",
    "        prediction_data = pd.read_csv(file)\n",
    "\n",
    "        # prediction_data = prediction_data.drop(prediction_data[(prediction_data.bgr == \"Oceania\")|(prediction_data.bgr == \"Antarctica\")].index)\n",
    "\n",
    "        if len(prediction_data.index)>0:\n",
    "    \n",
    "            coords = prediction_data[[\"x\",\"y\"]]\n",
    "            X = prediction_data.drop([\"x\",\"y\"],axis=\"columns\")\n",
    "\n",
    "            X.replace([np.inf, -np.inf], np.nan, inplace=True)\n",
    "            X=X.reset_index(drop=True)\n",
    "\n",
    "            try:\n",
    "\n",
    "                abd= model.predict(X)\n",
    "\n",
    "                abd_df = pd.DataFrame({\"abd\":abd})\n",
    "                \n",
    "                predicted = pd.concat([abd_df,coords], axis = \"columns\")\n",
    "\n",
    "                predicted.to_csv(filename,index=False)\n",
    "\n",
    "            except:\n",
    "                print(\"Could not make prediction.\")\n",
    "                continue"
   ]
  }
 ],
 "metadata": {
  "kernelspec": {
   "display_name": "tree.cluster",
   "language": "python",
   "name": "python3"
  },
  "language_info": {
   "codemirror_mode": {
    "name": "ipython",
    "version": 3
   },
   "file_extension": ".py",
   "mimetype": "text/x-python",
   "name": "python",
   "nbconvert_exporter": "python",
   "pygments_lexer": "ipython3",
   "version": "3.12.0"
  }
 },
 "nbformat": 4,
 "nbformat_minor": 2
}
