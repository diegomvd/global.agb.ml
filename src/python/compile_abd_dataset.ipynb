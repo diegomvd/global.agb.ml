{
 "cells": [
  {
   "cell_type": "markdown",
   "metadata": {},
   "source": [
    "The purpose of this notebook is to assemble data from ABD estimation in each cluster together with average value of bioclimatic observables for each tree observation belonging to the cluster. The resulting dataset is used as training data for the ML model used to estimate ABD as a function of some bioclimatic observables. "
   ]
  },
  {
   "cell_type": "code",
   "execution_count": null,
   "metadata": {},
   "outputs": [],
   "source": [
    "import pandas as pd\n",
    "import geopandas as gpd\n",
    "import numpy as np\n",
    "from dataset_creation import add_feature_from_raster, add_feature_from_polygon_layer\n",
    "from instance_grouping import aggregate_values_by_group"
   ]
  },
  {
   "cell_type": "markdown",
   "metadata": {},
   "source": [
    "Load the tree dataset augmented with biogeographical realms and the ABD dataset."
   ]
  },
  {
   "cell_type": "code",
   "execution_count": null,
   "metadata": {},
   "outputs": [],
   "source": [
    "trees = pd.read_csv(\"/home/dibepa/git/global.agb.ml/data/training/tmp_preprocessed/tallo_clusters_agb.csv\")\n",
    "\n",
    "cluster_ABD = pd.read_csv(\"/home/dibepa/git/global.agb.ml/data/training/tmp_preprocessed/abd_cluster.csv\") "
   ]
  },
  {
   "cell_type": "markdown",
   "metadata": {},
   "source": [
    "Add bioclimatic data on the tree dataset and save it."
   ]
  },
  {
   "cell_type": "code",
   "execution_count": null,
   "metadata": {},
   "outputs": [],
   "source": [
    "bioclim_data = [\n",
    "    (\"/home/dibepa/Documents/worldclim_bioclim/HighResolution/wc2.1_30s_1970_2000_isothermality.tif\",\"iso\"),\n",
    "    (\"/home/dibepa/Documents/worldclim_bioclim/HighResolution/wc2.1_30s_1970_2000_max_temp_warmest_month.tif\",\"mtwm\"),\n",
    "    (\"/home/dibepa/Documents/worldclim_bioclim/HighResolution/wc2.1_30s_1970_2000_mean_diurnal_range.tif\",\"mdr\"),\n",
    "    (\"/home/dibepa/Documents/worldclim_bioclim/HighResolution/wc2.1_30s_1970_2000_mean_temp_warmest_quarter.tif\",\"mtwq\"),\n",
    "    (\"/home/dibepa/Documents/worldclim_bioclim/HighResolution/wc2.1_30s_1970_2000_min_temp_coldest_month.tif\",\"mtcm\"),\n",
    "    (\"/home/dibepa/Documents/worldclim_bioclim/HighResolution/wc2.1_30s_1970_2000_precipitation_coldest_quarter.tif\",\"pcq\"),\n",
    "    (\"/home/dibepa/Documents/worldclim_bioclim/HighResolution/wc2.1_30s_1970_2000_precipitation_driest_month.tif\",\"pdm\"),\n",
    "    (\"/home/dibepa/Documents/worldclim_bioclim/HighResolution/wc2.1_30s_1970_2000_precipitation_driest_quarter.tif\",\"pdq\"),\n",
    "    (\"/home/dibepa/Documents/worldclim_bioclim/HighResolution/wc2.1_30s_1970_2000_precipitation_warmest_quarter.tif\",\"pwaq\"),\n",
    "    (\"/home/dibepa/Documents/worldclim_bioclim/HighResolution/wc2.1_30s_1970_2000_precipitation_wettest_quarter.tif\",\"pweq\"),\n",
    "    (\"/home/dibepa/Documents/worldclim_bioclim/HighResolution/wc2.1_30s_1970_2000_temperature_annual_range.tif\",\"tar\"),\n",
    "    (\"/home/dibepa/Documents/worldclim_bioclim/HighResolution/wc2.1_30s_1970_2000_annual_mean_temp.tif\",\"yt\"),\n",
    "    (\"/home/dibepa/Documents/worldclim_bioclim/HighResolution/wc2.1_30s_1970_2000_mean_temp_driest_quarter.tif\",\"tdq\"),\n",
    "    (\"/home/dibepa/Documents/worldclim_bioclim/HighResolution/wc2.1_30s_1970_2000_mean_temp_wettest_quarter.tif\",\"twq\"),\n",
    "    (\"/home/dibepa/Documents/worldclim_bioclim/HighResolution/wc2.1_30s_1970_2000_mean_temp_coldest_quarter.tif\",\"tcq\"),\n",
    "    (\"/home/dibepa/Documents/worldclim_bioclim/HighResolution/wc2.1_30s_1970_2000_annual_precipitation.tif\",\"yp\"),\n",
    "    (\"/home/dibepa/Documents/worldclim_bioclim/HighResolution/wc2.1_30s_1970_2000_precipitation_wettest_month.tif\",\"pwm\"),\n",
    "    (\"/home/dibepa/git/global.agb.ml/data/training/raw/bioclimatic_data/et0_v3_yr.tif\",\"pet\"),\n",
    "    (\"/home/dibepa/Documents/worldclim_bioclim/HighResolution/wc2.1_30s_1970_2000_temperature_seasonality.tif\",\"ts\"),\n",
    "    (\"/home/dibepa/Documents/worldclim_bioclim/HighResolution/wc2.1_30s_1970_2000_precipitation_seasonality.tif\",\"ps\"),\n",
    "]\n",
    "\n",
    "trees_geo = gpd.GeoDataFrame(\n",
    "    trees, \n",
    "    geometry=gpd.points_from_xy(trees.longitude, trees.latitude)\n",
    ")\n",
    "trees.crs = \"EPSG:4326\"\n",
    "\n",
    "for path,col in bioclim_data:\n",
    "    trees_geo = add_feature_from_raster(trees_geo, col, path, \"float\")\n",
    "    print(trees_geo)\n",
    "\n",
    "trees_geo.to_csv(\"/home/dibepa/git/global.agb.ml/data/training/tmp_preprocessed/tallo_clusters_agb_bioclim.csv\")"
   ]
  },
  {
   "cell_type": "markdown",
   "metadata": {},
   "source": [
    "Calculate the mean, median and standard deviation of each bioclimatic observable within each tree cluster."
   ]
  },
  {
   "cell_type": "code",
   "execution_count": null,
   "metadata": {},
   "outputs": [],
   "source": [
    "# Drop all unnecessary information for the future. \n",
    "trees = pd.DataFrame(trees_geo.drop(\n",
    "        [\"reference_id\",\n",
    "         \"Unnamed: 0\",\n",
    "         \"geometry\",\n",
    "         \"stem_diameter_cm\",\n",
    "         \"height_m\",\n",
    "         \"crown_radius_m\",\n",
    "         \"tree_id\",\n",
    "         \"division\",\n",
    "         \"species\",\n",
    "         \"genus\",\n",
    "         \"family\",\n",
    "         \"latitude\",\n",
    "         \"longitude\",\n",
    "         \"height_outlier\",\n",
    "         \"crown_radius_outlier\",\n",
    "         \"speciesCorrected\",\n",
    "         \"genusCorrected\",\n",
    "         \"meanWD\",\n",
    "         \"height_local_m\",\n",
    "         \"height_final_m\",\n",
    "         \"agb_tropical\",\n",
    "         \"agb_extra_tropical\"]\n",
    "         ,axis=\"columns\")\n",
    "    )\n",
    "\n",
    "print(trees.columns)\n",
    "\n",
    "# Create the dictionary with aggregation functions.\n",
    "aggfunc_dict = {}\n",
    "\n",
    "# Columns to get mean and standard deviation: \n",
    "agg_cols = [\"yt\",\"tdq\",\"twq\",\"tcq\",\"yp\",\"pwm\",\"pet\",\"iso\",\"ts\",\"ps\",\"mtwm\",\"mdr\",\"mtwq\",\"mtcm\",\"pcq\",\"pdm\",\"pdq\",\"pwaq\",\"pweq\",\"tar\"]\n",
    "\n",
    "# Columns to get first value (same value for all the group):\n",
    "cluster_cols = [\"bgr\",\"bio\",\"cluster\"]\n",
    "\n",
    "aggparams_list = [\n",
    "    (cluster_cols, \"first\",False),\n",
    "    (agg_cols,\"mean\",True),\n",
    "    (agg_cols,\"std\",True)\n",
    "]\n",
    "\n",
    "trees_agg = aggregate_values_by_group(trees,\"cluster\",aggparams_list)\n",
    "\n",
    "# Replace the standard deviation by the Coefficient of Variation.\n",
    "std_cols = []\n",
    "for col in agg_cols:\n",
    "    cstd = col+\"_std\"\n",
    "    cmean = col+\"_mean\"\n",
    "    trees_agg[col+\"_cv\"] = np.abs(trees_agg[cstd]/trees_agg[cmean])\n",
    "    std_cols.append(cstd)    \n",
    "\n",
    "trees_agg = trees_agg.drop(std_cols,axis=\"columns\")\n",
    "\n",
    "print(trees_agg)\n"
   ]
  },
  {
   "cell_type": "markdown",
   "metadata": {},
   "source": [
    "Include information on number of samples within each cluster."
   ]
  },
  {
   "cell_type": "code",
   "execution_count": null,
   "metadata": {},
   "outputs": [],
   "source": [
    "trees[\"n_samples\"] = 1\n",
    "cluster_samples = trees[[\"cluster\",\"n_samples\"]].groupby([\"cluster\"]).sum()\n",
    "\n",
    "print(cluster_samples.columns)\n",
    "print(trees_agg.columns)\n",
    "\n",
    "trees_agg = trees_agg.set_index(\"cluster\").join(cluster_samples).reset_index()\n",
    "\n",
    "print(trees_agg)\n",
    "\n",
    "trees_agg.to_csv(\"/home/dibepa/git/global.agb.ml/data/training/tmp_preprocessed/cluster_bioclimatic_summary.csv\")"
   ]
  },
  {
   "cell_type": "markdown",
   "metadata": {},
   "source": [
    "Now add information on ABD and tree density. "
   ]
  },
  {
   "cell_type": "code",
   "execution_count": null,
   "metadata": {},
   "outputs": [],
   "source": [
    "trees_agg = trees_agg.set_index(\"cluster\").join(cluster_ABD.set_index(\"cluster\"), how=\"inner\").reset_index()\n",
    "\n",
    "trees_agg.to_csv(\"/home/dibepa/git/global.agb.ml/data/training/tmp_preprocessed/cluster_bioclimatic_abd_summary.csv\")\n",
    "\n",
    "print(trees_agg)"
   ]
  },
  {
   "cell_type": "markdown",
   "metadata": {},
   "source": [
    "Create the training dataset by removing CV columns, biome name and cluster ID."
   ]
  },
  {
   "cell_type": "code",
   "execution_count": null,
   "metadata": {},
   "outputs": [],
   "source": [
    "ABD_dataset = trees_agg[[\n",
    "    'med_abd','bgr','yt_mean', 'tdq_mean', 'twq_mean', 'tcq_mean', 'yp_mean', 'pwm_mean', 'pet_mean', 'iso_mean','ts_mean', 'ps_mean','mtwm_mean', 'mdr_mean', 'mtwq_mean', 'mtcm_mean', 'pcq_mean','pdm_mean', 'pdq_mean', 'pwaq_mean', 'pweq_mean', 'tar_mean','n_samples'\n",
    "]]\n",
    "\n",
    "# Remove null ABDs caused by null densities probably caused by no-data in tree density or disalignment with tree density raster.\n",
    "\n",
    "ABD_dataset = ABD_dataset.drop(ABD_dataset[ABD_dataset['med_abd']==0.0].index)\n",
    "\n",
    "ABD_dataset = ABD_dataset.rename(\n",
    "   columns = { \n",
    "        \"med_abd\" : \"abd\",\n",
    "        \"yt_mean\" : \"yt\",\n",
    "        \"tdq_mean\":\"tdq\",\n",
    "        \"twq_mean\":\"twq\",\n",
    "        \"tcq_mean\":\"tcq\",\n",
    "        \"yp_mean\":\"yp\",\n",
    "        \"pwm_mean\":\"pwm\",\n",
    "        \"pet_mean\":\"pet\",\n",
    "        \"iso_mean\":\"iso\",\n",
    "        \"ts_mean\":\"ts\",\n",
    "        \"ps_mean\":\"ps\",\n",
    "        \"mtwm_mean\":\"mtwm\",\n",
    "        \"mdr_mean\":\"mdr\",\n",
    "        \"mtwq_mean\":\"mtwq\",\n",
    "        \"mtcm_mean\":\"mtcm\",\n",
    "        \"pcq_mean\":\"pcq\",\n",
    "        \"pdm_mean\":\"pdm\",\n",
    "        \"pdq_mean\":\"pdq\",\n",
    "        \"pwaq_mean\":\"pwaq\",\n",
    "        \"pweq_mean\":\"pweq\",\n",
    "        \"tar_mean\":\"tar\"\n",
    "    }\n",
    ")\n",
    "\n",
    "ABD_dataset[\"abd\"] = ABD_dataset[\"abd\"] * np.power(10.0,-5)\n",
    "\n",
    "print(ABD_dataset)\n",
    "trees_agg.to_csv(\"/home/dibepa/git/global.agb.ml/data/training/tmp_preprocessed/abd_bioclim_forested_regions.csv\")"
   ]
  },
  {
   "cell_type": "markdown",
   "metadata": {},
   "source": [
    "Add points for regions with null tree density with special focus on regions whose bioclimatic conditions are not comprised in the ABD dataset"
   ]
  },
  {
   "cell_type": "code",
   "execution_count": null,
   "metadata": {},
   "outputs": [],
   "source": [
    "tree_density_file = \"/home/dibepa/git/global.agb.ml/data/training/raw/tree_density/tree_density_biome_based_model_crowther_nature_2015_4326_float32.tiff\" \n",
    "\n",
    "predictor_range_dir = \"/home/dibepa/git/global.agb.ml/data/predict/predictor.range.onlybioclim/tmp\"\n",
    "\n",
    "print(\"Starting building the predictor out of range dataframe\")\n",
    "\n",
    "from natsort import natsorted\n",
    "from pathlib import Path\n",
    "import re\n",
    "import rasterio\n",
    "\n",
    "pfiles = natsorted( Path(predictor_range_dir).glob('predictors_in_range*.csv'), key=str )\n",
    "\n",
    "df_predictor = pd.DataFrame()\n",
    "for i,file in enumerate(pfiles):\n",
    "\n",
    "    # Remove Antarctica\n",
    "    window = re.findall('predictors_in_range(.*)', file.stem)[0] \n",
    "    lat = float(window.split(\"_\")[-1])\n",
    "    \n",
    "    if lat>-60:\n",
    "\n",
    "        df = pd.read_csv(file)\n",
    "\n",
    "        df = df.drop( df[df.in_range > 98].index )\n",
    "\n",
    "        if len(df.index)>0:\n",
    "\n",
    "            df_predictor = pd.concat([df_predictor,df], axis = \"rows\")\n",
    "    \n",
    "    print(\"Processed {} out of {} files.\".format(i+1,len(pfiles)))\n",
    "\n",
    "df_predictor = df_predictor.reset_index(drop=True)\n",
    "df_predictor = df_predictor.astype({'in_range':'uint16','x':'float32','y':'float32'})\n",
    "\n",
    "print(\"Starting the creation of new 0 biomass locations\")\n",
    "\n",
    "samples = 0\n",
    "points = pd.DataFrame() \n",
    "df_training = ABD_dataset.copy(deep=True)\n",
    "\n",
    "tree_density = rasterio.open(tree_density_file)\n",
    "\n",
    "while len(points.index)<len(df_training.index):\n",
    "    \n",
    "    s = df_predictor.sample()\n",
    "\n",
    "    point = (s.x,s.y)\n",
    "    id = s.index\n",
    "\n",
    "    df_predictor.drop(id)\n",
    "\n",
    "    td = [x for x in tree_density.sample([point])]\n",
    "\n",
    "    if td[0] == 0 :\n",
    "        p = pd.DataFrame({\"x\": s.x, \"y\": s.y})\n",
    "        points = pd.concat([points,p], axis = \"rows\")\n",
    "        samples +=1 \n",
    "        print(\"Sampled {} points\".format(samples))\n",
    "\n",
    "points_gdf = gpd.GeoDataFrame(\n",
    "            points,\n",
    "            geometry = gpd.points_from_xy(x=points.x, y=points.y),\n",
    "        )\n",
    "\n",
    "points_gdf.crs = \"EPSG:4326\"\n",
    "\n",
    "for path,col in bioclim_data:\n",
    "    points_gdf = add_feature_from_raster(points_gdf, col, path, \"float\")\n",
    "    print(points_gdf)\n",
    "\n",
    "points_gdf = add_feature_from_polygon_layer(points_gdf,\"REALM\",\"/home/dibepa/git/global.agb.ml/data/training/raw/biome_data/Ecoregions2017.shp\",\"bgr\")\n",
    "print(points_gdf)\n",
    "\n",
    "zero_abd = pd.DataFrame(points_gdf.drop(columns=['geometry','x','y']))\n",
    "zero_abd[\"abd\"]=0.0\n",
    "zero_abd['n_samples'] = np.median(ABD_dataset[\"n_samples\"])\n",
    "\n",
    "# Create new dataset\n",
    "\n",
    "cols = zero_abd.columns\n",
    "\n",
    "ABD = ABD_dataset[cols]\n",
    "\n",
    "ABD = ABD.astype({'abd':'float32'})\n",
    "\n",
    "ABD = pd.concat([ABD,zero_abd],axis=\"rows\")\n",
    "ABD = ABD.reset_index(drop=True)\n",
    "\n",
    "print(ABD)\n",
    "\n",
    "ABD.to_csv(\"/home/dibepa/git/global.agb.ml/data/training/detailed.allometries.model/ABD_training_dataset.csv\")"
   ]
  },
  {
   "cell_type": "code",
   "execution_count": 6,
   "metadata": {},
   "outputs": [
    {
     "name": "stdout",
     "output_type": "stream",
     "text": [
      "(81387149, 2)\n"
     ]
    },
    {
     "ename": "KeyboardInterrupt",
     "evalue": "",
     "output_type": "error",
     "traceback": [
      "\u001b[0;31m---------------------------------------------------------------------------\u001b[0m",
      "\u001b[0;31mKeyboardInterrupt\u001b[0m                         Traceback (most recent call last)",
      "\u001b[1;32m/home/dibepa/git/global.agb.ml/src/python/compile_abd_dataset.ipynb Cell 17\u001b[0m line \u001b[0;36m1\n\u001b[1;32m     <a href='vscode-notebook-cell:/home/dibepa/git/global.agb.ml/src/python/compile_abd_dataset.ipynb#X22sZmlsZQ%3D%3D?line=11'>12</a>\u001b[0m rc \u001b[39m=\u001b[39m np\u001b[39m.\u001b[39mtranspose(np\u001b[39m.\u001b[39mnonzero(td\u001b[39m==\u001b[39m\u001b[39m0.0\u001b[39m))\n\u001b[1;32m     <a href='vscode-notebook-cell:/home/dibepa/git/global.agb.ml/src/python/compile_abd_dataset.ipynb#X22sZmlsZQ%3D%3D?line=12'>13</a>\u001b[0m \u001b[39mprint\u001b[39m(rc\u001b[39m.\u001b[39mshape)\n\u001b[0;32m---> <a href='vscode-notebook-cell:/home/dibepa/git/global.agb.ml/src/python/compile_abd_dataset.ipynb#X22sZmlsZQ%3D%3D?line=13'>14</a>\u001b[0m xy \u001b[39m=\u001b[39m [tree_density\u001b[39m.\u001b[39;49mxy(row, col) \u001b[39mfor\u001b[39;00m row, col \u001b[39min\u001b[39;00m rc]\n\u001b[1;32m     <a href='vscode-notebook-cell:/home/dibepa/git/global.agb.ml/src/python/compile_abd_dataset.ipynb#X22sZmlsZQ%3D%3D?line=14'>15</a>\u001b[0m \u001b[39mprint\u001b[39m(xy[\u001b[39m0\u001b[39m:\u001b[39m5\u001b[39m])\n",
      "File \u001b[0;32m~/miniconda3/envs/tree.cluster/lib/python3.12/site-packages/rasterio/transform.py:82\u001b[0m, in \u001b[0;36mTransformMethodsMixin.xy\u001b[0;34m(self, row, col, z, offset, transform_method, **rpc_options)\u001b[0m\n\u001b[1;32m     80\u001b[0m \u001b[39mif\u001b[39;00m \u001b[39mnot\u001b[39;00m transform:\n\u001b[1;32m     81\u001b[0m     \u001b[39mraise\u001b[39;00m \u001b[39mAttributeError\u001b[39;00m(\u001b[39m\"\u001b[39m\u001b[39mDataset has no \u001b[39m\u001b[39m{}\u001b[39;00m\u001b[39m\"\u001b[39m\u001b[39m.\u001b[39mformat(transform_method))\n\u001b[0;32m---> 82\u001b[0m \u001b[39mreturn\u001b[39;00m xy(transform, row, col, zs\u001b[39m=\u001b[39;49mz, offset\u001b[39m=\u001b[39;49moffset, \u001b[39m*\u001b[39;49m\u001b[39m*\u001b[39;49mrpc_options)\n",
      "File \u001b[0;32m~/miniconda3/envs/tree.cluster/lib/python3.12/site-packages/rasterio/transform.py:251\u001b[0m, in \u001b[0;36mxy\u001b[0;34m(transform, rows, cols, zs, offset, **rpc_options)\u001b[0m\n\u001b[1;32m    249\u001b[0m transformer_cls \u001b[39m=\u001b[39m get_transformer(transform, \u001b[39m*\u001b[39m\u001b[39m*\u001b[39mrpc_options)\n\u001b[1;32m    250\u001b[0m \u001b[39mwith\u001b[39;00m transformer_cls() \u001b[39mas\u001b[39;00m transformer:\n\u001b[0;32m--> 251\u001b[0m     \u001b[39mreturn\u001b[39;00m transformer\u001b[39m.\u001b[39;49mxy(rows, cols, zs\u001b[39m=\u001b[39;49mzs, offset\u001b[39m=\u001b[39;49moffset)\n",
      "File \u001b[0;32m~/miniconda3/envs/tree.cluster/lib/python3.12/site-packages/rasterio/transform.py:438\u001b[0m, in \u001b[0;36mTransformerBase.xy\u001b[0;34m(self, rows, cols, zs, offset)\u001b[0m\n\u001b[1;32m    435\u001b[0m     \u001b[39mraise\u001b[39;00m TransformError(\u001b[39m\"\u001b[39m\u001b[39mInvalid offset\u001b[39m\u001b[39m\"\u001b[39m)\n\u001b[1;32m    437\u001b[0m \u001b[39m# shift input coordinates according to offset\u001b[39;00m\n\u001b[0;32m--> 438\u001b[0m T \u001b[39m=\u001b[39m IDENTITY\u001b[39m.\u001b[39;49mtranslation(coff, roff)\n\u001b[1;32m    439\u001b[0m offset_rows \u001b[39m=\u001b[39m []\n\u001b[1;32m    440\u001b[0m offset_cols \u001b[39m=\u001b[39m []\n",
      "File \u001b[0;32m~/miniconda3/envs/tree.cluster/lib/python3.12/site-packages/affine/__init__.py:196\u001b[0m, in \u001b[0;36mAffine.translation\u001b[0;34m(cls, xoff, yoff)\u001b[0m\n\u001b[1;32m    190\u001b[0m \u001b[39m    \u001b[39m\u001b[39m\"\"\"Return the identity transform.\u001b[39;00m\n\u001b[1;32m    191\u001b[0m \n\u001b[1;32m    192\u001b[0m \u001b[39m    :rtype: Affine\u001b[39;00m\n\u001b[1;32m    193\u001b[0m \u001b[39m    \"\"\"\u001b[39;00m\n\u001b[1;32m    194\u001b[0m     \u001b[39mreturn\u001b[39;00m identity\n\u001b[0;32m--> 196\u001b[0m \u001b[39m@classmethod\u001b[39m\n\u001b[1;32m    197\u001b[0m \u001b[39mdef\u001b[39;00m \u001b[39mtranslation\u001b[39m(\u001b[39mcls\u001b[39m, xoff: \u001b[39mfloat\u001b[39m, yoff: \u001b[39mfloat\u001b[39m):\n\u001b[1;32m    198\u001b[0m \u001b[39m    \u001b[39m\u001b[39m\"\"\"Create a translation transform from an offset vector.\u001b[39;00m\n\u001b[1;32m    199\u001b[0m \n\u001b[1;32m    200\u001b[0m \u001b[39m    :param xoff: Translation x offset.\u001b[39;00m\n\u001b[0;32m   (...)\u001b[0m\n\u001b[1;32m    204\u001b[0m \u001b[39m    :rtype: Affine\u001b[39;00m\n\u001b[1;32m    205\u001b[0m \u001b[39m    \"\"\"\u001b[39;00m\n\u001b[1;32m    206\u001b[0m     \u001b[39mreturn\u001b[39;00m \u001b[39mtuple\u001b[39m\u001b[39m.\u001b[39m\u001b[39m__new__\u001b[39m(\u001b[39mcls\u001b[39m, (\u001b[39m1.0\u001b[39m, \u001b[39m0.0\u001b[39m, xoff, \u001b[39m0.0\u001b[39m, \u001b[39m1.0\u001b[39m, yoff, \u001b[39m0.0\u001b[39m, \u001b[39m0.0\u001b[39m, \u001b[39m1.0\u001b[39m))\n",
      "\u001b[0;31mKeyboardInterrupt\u001b[0m: "
     ]
    }
   ],
   "source": [
    "tree_density_file = \"/home/dibepa/git/global.agb.ml/data/training/raw/tree_density/tree_density_biome_based_model_crowther_nature_2015_4326_float32.tiff\" \n",
    "\n",
    "predictor_range_dir = \"/home/dibepa/git/global.agb.ml/data/predict/predictor.range.onlybioclim/tmp\"\n",
    "\n",
    "import rasterio\n",
    "import numpy as np\n",
    "import gc\n",
    "from rasterio.windows import Window\n",
    "\n",
    "tree_density = rasterio.open(tree_density_file)\n",
    "td = tree_density.read(1)\n",
    "rc = np.transpose(np.nonzero(td==0.0))\n",
    "print(rc.shape)\n",
    "xy = [tree_density.xy(row, col) for row, col in rc]\n",
    "print(xy[0:5])\n",
    "\n",
    "\n"
   ]
  },
  {
   "cell_type": "code",
   "execution_count": null,
   "metadata": {},
   "outputs": [],
   "source": [
    "points_gdf.to_csv(\"/home/dibepa/git/global.agb.ml/data/training/detailed.allometries.model/zero_biomass_points.csv\")\n",
    "\n",
    "ABD_dataset2 = ABD_dataset[ABD_dataset['abd']<5000]\n",
    "print(np.max(ABD_dataset2['abd']))\n",
    "print(np.min(ABD_dataset2['abd']))\n",
    "print(np.mean(ABD_dataset2['abd']))\n",
    "print(np.median(ABD_dataset2['abd']))\n",
    "print(len(ABD_dataset2[ABD_dataset2['abd']<1].index))"
   ]
  }
 ],
 "metadata": {
  "kernelspec": {
   "display_name": "tree.cluster",
   "language": "python",
   "name": "python3"
  },
  "language_info": {
   "codemirror_mode": {
    "name": "ipython",
    "version": 3
   },
   "file_extension": ".py",
   "mimetype": "text/x-python",
   "name": "python",
   "nbconvert_exporter": "python",
   "pygments_lexer": "ipython3",
   "version": "3.12.0"
  }
 },
 "nbformat": 4,
 "nbformat_minor": 2
}
